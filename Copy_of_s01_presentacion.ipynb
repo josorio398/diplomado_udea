{
  "nbformat": 4,
  "nbformat_minor": 0,
  "metadata": {
    "colab": {
      "name": "Copy of s01_presentacion.ipynb",
      "version": "0.3.2",
      "provenance": [],
      "collapsed_sections": [],
      "include_colab_link": true
    },
    "kernelspec": {
      "name": "python3",
      "display_name": "Python 3"
    }
  },
  "cells": [
    {
      "cell_type": "markdown",
      "metadata": {
        "id": "view-in-github",
        "colab_type": "text"
      },
      "source": [
        "<a href=\"https://colab.research.google.com/github/ssanchezgoe/diplomado_udea/blob/master/Copy_of_s01_presentacion.ipynb\" target=\"_parent\"><img src=\"https://colab.research.google.com/assets/colab-badge.svg\" alt=\"Open In Colab\"/></a>"
      ]
    },
    {
      "cell_type": "markdown",
      "metadata": {
        "id": "8Eqn3RtteZei",
        "colab_type": "text"
      },
      "source": [
        "<p><img alt=\"Colaboratory logo\" height=\"45px\" src=\"https://colab.research.google.com/img/colab_favicon.ico\" align=\"left\" hspace=\"10px\" vspace=\"0px\"></p>\n",
        "\n",
        "<h1> Diplomado de Análisis de datos y Machine Learning en Python</h1>\n",
        "\n",
        "\n",
        "El presente diplomado hace parte del centro de Big Data de la facultad de ciencias exactas y naturales (FCEN) de la Universidad de Antioquia."
      ]
    },
    {
      "cell_type": "markdown",
      "metadata": {
        "id": "KvGkmbJKmJgO",
        "colab_type": "text"
      },
      "source": [
        "# Contenido\n",
        "\n",
        "\n",
        "\n",
        "1.   Introducción a Google Colaboratory.\n",
        "2.   Introducción a python.\n",
        "\n"
      ]
    },
    {
      "cell_type": "markdown",
      "metadata": {
        "id": "fwCSPQiBuLQH",
        "colab_type": "text"
      },
      "source": [
        "# 1) Introducción a Google Colaboratory\n",
        "\n",
        "El presente documento representa un  [notebook de Jupyter](https://jupyter.org/), almacenado en el Colaboratory. No se trata de una página estática, sino de un ambiente interactivo que le permitirá la ejecución del lenguaje Python, además de otros.\n",
        "\n",
        "por ejermplo, a continuación se muestra una **celda de código** con un pequeño script en Python, en el cual se calcula un valor, se almacena en una variable y se imprime en pantalla:"
      ]
    },
    {
      "cell_type": "code",
      "metadata": {
        "id": "xUF2l6RscYGR",
        "colab_type": "code",
        "colab": {}
      },
      "source": [
        ""
      ],
      "execution_count": 0,
      "outputs": []
    }
  ]
}
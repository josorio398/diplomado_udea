{
  "nbformat": 4,
  "nbformat_minor": 0,
  "metadata": {
    "colab": {
      "name": "flask_colab_primera_app.ipynb",
      "provenance": [],
      "collapsed_sections": [],
      "include_colab_link": true
    },
    "kernelspec": {
      "name": "python3",
      "display_name": "Python 3"
    }
  },
  "cells": [
    {
      "cell_type": "markdown",
      "metadata": {
        "id": "view-in-github",
        "colab_type": "text"
      },
      "source": [
        "<a href=\"https://colab.research.google.com/github/ssanchezgoe/diplomado_udea/blob/master/flask_colab_primera_app.ipynb\" target=\"_parent\"><img src=\"https://colab.research.google.com/assets/colab-badge.svg\" alt=\"Open In Colab\"/></a>"
      ]
    },
    {
      "cell_type": "markdown",
      "metadata": {
        "id": "8evHPHQ_7_Zr",
        "colab_type": "text"
      },
      "source": [
        "\n",
        "<center>\n",
        "    <img src=\"https://github.com/ssanchezgoe/flask_vscode_tutorial/blob/master/imagenes/flask_colab_logo.png?raw=true\" alt=\"centered image\" />\n",
        "</center>"
      ]
    },
    {
      "cell_type": "markdown",
      "metadata": {
        "id": "uqZ7QpcwMP8f",
        "colab_type": "text"
      },
      "source": [
        "Google Colab nos proporciona una máquina virtual (Virtual Machine- VM), por lo que no tenemos acceso a un localhost, como si lo tenemos en un pc propio cuando ejecutamos un servidor web local. Lo que se puede hacer en este caso is acudir a un URL público usando la librería de python **flask-ngrok**. \n",
        "\n",
        "\n",
        "\n",
        "---\n",
        "**ngrok:** es una herramiente que permite el acceso de cualquier persona en internet al contenido almacenado en un servidor local al generar un URL dinámicamente. Esta herramienta resulta útil en el caso que, por ejemplo, trabajemos con desarrolladores de forma remota y se pretende mostrar los \n",
        "\n",
        "Ngrok es una herramienta que permite acceder nuestro servidor local a cualquier persona en internet con la que compartamos una url generada dinamicamente , esto es muy útil por ejemplo cuando necesitamos mostrar avances constantemente en sitios que se encuentran en etapa de desarrollo o cuando trabajamos con un equipo de desarrolladores de forma remota .\n",
        "\n",
        "\n",
        "NGROK nos permite realizar esto sin hacer ninguna configuración extra en el router o firewall simplemente basta con bajar la pequeña aplicación\n",
        "\n",
        "---\n",
        "\n",
        "\n",
        "Instalemos dicha librería primero:"
      ]
    },
    {
      "cell_type": "code",
      "metadata": {
        "id": "msDsihhVXrYX",
        "colab_type": "code",
        "colab": {
          "base_uri": "https://localhost:8080/",
          "height": 296
        },
        "outputId": "0c21af2b-b092-4b3a-e70f-bff63f4a5995"
      },
      "source": [
        "!pip install flask-ngrok"
      ],
      "execution_count": 4,
      "outputs": [
        {
          "output_type": "stream",
          "text": [
            "Collecting flask-ngrok\n",
            "  Downloading https://files.pythonhosted.org/packages/af/6c/f54cb686ad1129e27d125d182f90f52b32f284e6c8df58c1bae54fa1adbc/flask_ngrok-0.0.25-py3-none-any.whl\n",
            "Requirement already satisfied: requests in /usr/local/lib/python3.6/dist-packages (from flask-ngrok) (2.23.0)\n",
            "Requirement already satisfied: Flask>=0.8 in /usr/local/lib/python3.6/dist-packages (from flask-ngrok) (1.1.2)\n",
            "Requirement already satisfied: urllib3!=1.25.0,!=1.25.1,<1.26,>=1.21.1 in /usr/local/lib/python3.6/dist-packages (from requests->flask-ngrok) (1.24.3)\n",
            "Requirement already satisfied: certifi>=2017.4.17 in /usr/local/lib/python3.6/dist-packages (from requests->flask-ngrok) (2020.6.20)\n",
            "Requirement already satisfied: idna<3,>=2.5 in /usr/local/lib/python3.6/dist-packages (from requests->flask-ngrok) (2.10)\n",
            "Requirement already satisfied: chardet<4,>=3.0.2 in /usr/local/lib/python3.6/dist-packages (from requests->flask-ngrok) (3.0.4)\n",
            "Requirement already satisfied: Werkzeug>=0.15 in /usr/local/lib/python3.6/dist-packages (from Flask>=0.8->flask-ngrok) (1.0.1)\n",
            "Requirement already satisfied: Jinja2>=2.10.1 in /usr/local/lib/python3.6/dist-packages (from Flask>=0.8->flask-ngrok) (2.11.2)\n",
            "Requirement already satisfied: click>=5.1 in /usr/local/lib/python3.6/dist-packages (from Flask>=0.8->flask-ngrok) (7.1.2)\n",
            "Requirement already satisfied: itsdangerous>=0.24 in /usr/local/lib/python3.6/dist-packages (from Flask>=0.8->flask-ngrok) (1.1.0)\n",
            "Requirement already satisfied: MarkupSafe>=0.23 in /usr/local/lib/python3.6/dist-packages (from Jinja2>=2.10.1->Flask>=0.8->flask-ngrok) (1.1.1)\n",
            "Installing collected packages: flask-ngrok\n",
            "Successfully installed flask-ngrok-0.0.25\n"
          ],
          "name": "stdout"
        }
      ]
    },
    {
      "cell_type": "markdown",
      "metadata": {
        "id": "fNmnI79EAQj2",
        "colab_type": "text"
      },
      "source": [
        "# **Primer programa en `flask`**:"
      ]
    },
    {
      "cell_type": "code",
      "metadata": {
        "id": "K1UI7Pz-Xvfo",
        "colab_type": "code",
        "colab": {
          "base_uri": "https://localhost:8080/",
          "height": 207
        },
        "outputId": "c9fb69ac-f567-4d20-aa2f-c4d0929062a1"
      },
      "source": [
        "from flask_ngrok import run_with_ngrok\n",
        "from flask import Flask\n",
        "\n",
        "app = Flask(__name__)\n",
        "\n",
        "run_with_ngrok(app)   #Ejecución de ngrok una vez la app está en marcha\n",
        "\n",
        "# Rutas y vistas.\n",
        "@app.route(\"/\")\n",
        "def home():\n",
        "    return \"<h1>Ejecución de Flask on Google Colab!</h1>\"\n",
        "  \n",
        "if __name__ == '__main__':\n",
        " app.run()"
      ],
      "execution_count": 5,
      "outputs": [
        {
          "output_type": "stream",
          "text": [
            " * Serving Flask app \"__main__\" (lazy loading)\n",
            " * Environment: production\n",
            "\u001b[31m   WARNING: This is a development server. Do not use it in a production deployment.\u001b[0m\n",
            "\u001b[2m   Use a production WSGI server instead.\u001b[0m\n",
            " * Debug mode: off\n"
          ],
          "name": "stdout"
        },
        {
          "output_type": "stream",
          "text": [
            " * Running on http://127.0.0.1:5000/ (Press CTRL+C to quit)\n"
          ],
          "name": "stderr"
        },
        {
          "output_type": "stream",
          "text": [
            " * Running on http://58fd7a8e628a.ngrok.io\n",
            " * Traffic stats available on http://127.0.0.1:4040\n"
          ],
          "name": "stdout"
        },
        {
          "output_type": "stream",
          "text": [
            "127.0.0.1 - - [17/Aug/2020 22:53:42] \"\u001b[37mGET / HTTP/1.1\u001b[0m\" 200 -\n",
            "127.0.0.1 - - [17/Aug/2020 22:53:43] \"\u001b[33mGET /favicon.ico HTTP/1.1\u001b[0m\" 404 -\n",
            "127.0.0.1 - - [17/Aug/2020 22:53:47] \"\u001b[37mGET / HTTP/1.1\u001b[0m\" 200 -\n"
          ],
          "name": "stderr"
        }
      ]
    },
    {
      "cell_type": "markdown",
      "metadata": {
        "id": "XUefM0iGiOpa",
        "colab_type": "text"
      },
      "source": [
        "Donde se obtiene, en el segundo URL, un URL público seguro al que puede acceder una persona desde internet.\n"
      ]
    },
    {
      "cell_type": "markdown",
      "metadata": {
        "id": "tvZYu8Xt3fBO",
        "colab_type": "text"
      },
      "source": [
        "## **Explicación del código:**\n",
        "\n",
        "La explicación del código anterior se limitará a las sentencias en Flask y no al puente construido con **ngrok** para poder ejecutar flask en el colab. El código que puede ser ejecutado en un ordenador local con `flask` sería el siguiente:\n",
        "\n",
        "\n",
        "```\n",
        "from flask import Flask\n",
        "\n",
        "app = Flask(__name__)\n",
        "\n",
        "@app.route(\"/\")\n",
        "def home():\n",
        "    return \"<h1>Ejecución de Flask on Google Colab!</h1>\"\n",
        "\n",
        "if __name__ == '__main__':\n",
        " app.run()\n",
        "```"
      ]
    },
    {
      "cell_type": "markdown",
      "metadata": {
        "id": "zGUIPFpDAhs9",
        "colab_type": "text"
      },
      "source": [
        "###**Inicialización:**\n",
        "\n",
        "Todas las applicaciones en `Flask` deben crear una instancia de aplicación. El servidor web envía todas las solicitudes que recibe de los clientes a esta instancia u objeto creado mediante un protocolo llamado *Interfaz de puerta de enlace del servidor web* (WSGI). La instancia es entonces un objeto de la clases Flask que se crea mediante la sentencia:\n",
        "\n",
        "```\n",
        "app = Flask(__name__)\n",
        "```\n",
        "\n",
        "El único argumento que se requiere al usar el constructor de la clase `Flask` es el nómbre del módulo o paquete principal; en la mayoría de aplicaciones la variable `__name__` representa el valor correcto. El argumento `__name__` determina, en este caso, la ruta raiz de la aplicación, de tal forma que, posteriormente, ésta pueda encontrar archivos de recursos relacionados con la ubicación de la aplicación. Sobre el argumento `__name__` se debe puntualizar lo siguiente:\n",
        "\n",
        "- Cuando el intérprete lee un archivo de código, ejecuta todo el código global que se encuentra en él. Esto implica crear objetos para toda función o clase definida y variables globales.\n",
        "\n",
        "- Todo módulo (archivo de código) en Python tiene un atributo especial llamado `__name__` que define el espacio de nombres en el que se está ejecutando. Es usado para identificar de forma única un módulo en el sistema de importaciones.\n",
        "\n",
        "- Por otra parte, la cadena `'__main__'` es el nombre del ámbito en el que se ejecuta el programa principal.\n",
        "\n",
        "- El intérprete pasa el valor del atributo `__name__` a la cadena `'__main__'` si el módulo se está ejecutando como programa principal (ejecutando el presente colab).\n",
        "\n",
        "- Si el módulo no es llamado como programa principal, sino que es importado desde otro módulo, el atributo `__name__` tendrá como valor el nombre de dicho modulo. Al ejecutar en la terminal `Flask.__name__` se obtentra como resultado la cadena `Flask`."
      ]
    },
    {
      "cell_type": "markdown",
      "metadata": {
        "id": "DkEi19SWAndo",
        "colab_type": "text"
      },
      "source": [
        "###**Funciones de vista y rutas**\n",
        "\n",
        "Un cliente (por ejemplo un navegador web), debe enviar una solicitud al servidor web, el cual la envía a la instacia de la aplicación `Flask`. La instancia debe saber qué código se debe ejecutar para cada URL solicitada, por lo que mantiene una asignación de las URL a las funciones de Python. La asociación entre una URL y la función que la manipula se le conoce con el nombre de *ruta*. Para definir una ruta en `flask` es a través del decorador `app.route` contenido en el objeto `app` y que regista la función decorada como ruta. La forma de invocar y registrar la función como ruta es la siguiente:\n",
        "\n",
        "\n",
        "\n",
        "```\n",
        "@app.route(\"/\")\n",
        "def home():\n",
        "    return \"<h1>Ejecución de Flask on Google Colab!</h1>\"\n",
        "```\n",
        "\n",
        "\n",
        "\n",
        "\n",
        "---\n",
        "**Decorador:** En `python`, un decorador es una característica estándar que puede modificar el comportamiento de una función de varias formas. Un patrón común es usar un decorador para registrar un función como un controlador para un evento.\n",
        "\n",
        "---\n",
        "\n",
        "\n",
        "En estas líneas de código, se registra la función `index()` como controlador de la aplicacion raíz. El valor que retorna esta función, que se conoce como **respuesta**, es lo que recibe el cliente. En el caso de un cliente representado por un navegador web, *la respuesta es el documento que se muestra al usuario*. Por otra parte, la función `index()` se denomina **función de vista**. En nuestro caso, la respuesta devuelta por esta función de vista es una cadena simple con contenido HTML, no obstante, puede adquirir formas más complejas. \n",
        "\n",
        "**Nota:** En este código las respuestas son embebidas en cadenas de caracteres que siguen un código HTML, lo cual es difícil de mantener. Más adelante se verá como generar respuestas a través de plantillas."
      ]
    },
    {
      "cell_type": "markdown",
      "metadata": {
        "id": "RZPBJv-IQc7A",
        "colab_type": "text"
      },
      "source": [
        "###**Inicio del servidor**\n",
        "\n",
        "La instancia de la aplicación posee un método de ejecución que inicia el servidor web de desarrollo integrado:\n",
        "\n",
        "    if __name__ == '__main__':\n",
        "      app.run()\n",
        "\n",
        "\n",
        "El booleano del condicional `__name__ == '__main__'` en `Python` se usa para asegurar que el servidor web de desarrollo solo se iniciará cuando se ejecute el script directamente. Cuando el script es importado por otro, se asume que el script principal iniciará un servidor diferente, por ende, la llamada `app.run()` será omitida.\n",
        "\n",
        "**NOTA:** El servidor web  proporcionado por `Flask` no tiene como fin un uso de producción."
      ]
    },
    {
      "cell_type": "markdown",
      "metadata": {
        "id": "ygcHbqiNBIDC",
        "colab_type": "text"
      },
      "source": [
        "#**Reglas de variables**\n",
        "\n",
        "Se puede adicionar seciones variales a un URL indicando las seciones como `<nombre_variable>`. En este caso, la función recibe `<nombre_variable>` como un argumento basado en una palabra clave. Opcionalmente, se puede usar un convertidor para especificar el tipo de argumento que se busca; para ello especificamos el tipo de la forma `<converter:variable_name>`. En la siguiente tabla, se definen los tipos de convertidores aceptados\n",
        "\n",
        "Convertidor | Significado\n",
        "--- |----\n",
        "`string` | Acepta cualquier texto sin slash (definido por defecto).\n",
        "`int`| Admite un entero positivo\n",
        "`float` | Admite un valor en coma flotante positivo\n",
        "`path` | Similar a un string, pero se adimiten slashes\n",
        "`uuid` | Admite strings UUID"
      ]
    },
    {
      "cell_type": "markdown",
      "metadata": {
        "id": "jrEnJcz4GpkY",
        "colab_type": "text"
      },
      "source": [
        "#**URLs únicos - Comportamiento en redirecionamiento**\n",
        "\n",
        "Las siguientes dos formas de definir una ruta difieren según el uso del slash final\n",
        "\n",
        "\n",
        "\n",
        "```\n",
        "@app.route('/proyectos/')\n",
        "def proyectos():\n",
        "    return 'Página del proyecto'\n",
        "\n",
        "@app.route('/about')\n",
        "def about():\n",
        "    return 'Acerca de la página'\n",
        "```\n",
        "The canonical URL for the projects endpoint has a trailing slash. It’s similar to a folder in a file system. If you access the URL without a trailing slash, Flask redirects you to the canonical URL with the trailing slash.\n",
        "\n",
        "The canonical URL for the about endpoint does not have a trailing slash. It’s similar to the pathname of a file. Accessing the URL with a trailing slash produces a 404 “Not Found” error. This helps keep URLs unique for these resources, which helps search engines avoid indexing the same page twice.\n"
      ]
    },
    {
      "cell_type": "markdown",
      "metadata": {
        "id": "cPsvrJUFQyXp",
        "colab_type": "text"
      },
      "source": [
        "# **Ciclo solicitud-respuesta**\n",
        "\n",
        "A continuación se expondrá alguno de los aspectos de diseño de `Flask`."
      ]
    },
    {
      "cell_type": "markdown",
      "metadata": {
        "id": "mp51eFaDROcC",
        "colab_type": "text"
      },
      "source": [
        "##**Aplicaciones y contextos de solicitud:**\n",
        "\n",
        "Cuando `Flask` recibe una solicitud de un cliente, se necesita crean algunos objetos que estarán disponibles para que la *función de vista* los manipule. Un ejemplo de dichos objetos es **objeto de solicitud**, que se enmascara la solicitud HTTP enviada por el cliente. \n",
        "\n",
        "La forma mas evidente en la cual `Flask` le puede dar acceso a una función de vista al objeto de solicitud es enviarlo como un argumento, pero esto requeriría que cada función de vista de la apliación tuviese un argumeto de más. Además, las cosas se complicarían si se considera que los objetos de solicitud no son los únicos objetos que las funciones de vista deben acceder para cumplir con una solicitud.\n",
        "\n",
        "Para evitar saturar las funciones de vista con muchos argumentos, Flask usa el concepto de **contextos** para hacer que ciertos objetos sean accesibles globalmente temporalmente. Gracias a los contextos, se pueden escribir funciones de vista como la siguiente:\n",
        "\n",
        "\n",
        "\n",
        "```\n",
        "from flask import request\n",
        "\n",
        "# Rutas\n",
        "@app.route('/')\n",
        "\n",
        "# Vista\n",
        "def index():\n",
        "  user_agent = request.headers.get('User-Agent')\n",
        "  return '<p>Your browser is %s</p>' % user_agent\n",
        "```\n",
        "\n",
        "Nótese como en esta función de vista, la solicitud es usada como si fuese una variable global. En realidad, la solicitud no puede ser una variable global si consideramos que en un servidor multihilos, los hilos trabajan en solicitudes de diferentes clientes al mismo tiempo, de forma que a cada proceso se le debe \"reservar\" un objeto diferente en la solicitud. Los contextos le permiten a `Flask` hacer ciertas variables globales para que sean accesibles a un hilo sin interferir con otros.\n",
        "\n",
        "\n",
        "\n",
        "---\n",
        "**Hilo:** secuencia pequeña de instrucciones que se pueden administrar de forma independiente. En un proceso se pueden tener varios hilos activos al mismo tiempo, algunas veces, compartiendo recursos como memoria o identificadores de archivos. Los servidores web multihilos inician un subconjunto de hilos y seleccionan un hilo de ellos para manejar cada solicitud entrante.\n",
        "\n",
        "---\n",
        "\n",
        "En `Flask`, existen dos **contextos**: \n",
        "\n",
        "- Los contextos de aplicación.\n",
        "- Los contextos de solicitud.\n",
        "\n",
        "En la siguiente tabla se muestran las variables expuesta por cada uno de estos contextos.\n",
        "\n",
        "\n",
        "Variable | Context | Descripción\n",
        "--|--|--\n",
        "`current_app` | Contexto de aplicacón | Instancia de aplicación para una aplicación activa\n",
        "`g` | Contexto de aplicación | Objeto que la aplicación puede usar como almacenamiento temporal durante <br>la manipulación de una solicitud. Esta variable se reinicia en cada solicitud.\n",
        "`request` | Contexto de solicitud | Objeto de solicitud, el cual enmascara los contenidos de una solicitud HTTP <br> enviada por el cliente.\n",
        "`session` | Contexto de solicitud | Sesión de usuario que corresponde a un diccionario que la aplicación puede <br> usar para almacenar valores que deben tenerse en cuentra entre solicitudes.\n",
        "\n",
        "Antes de enviar una solicitud, `Flask` activa la app y los contextos de solicitud, los cuales son eliminados cuando se tramíta la solicitud. Cuando opera el contexto de aplicación, las variables `current_app` y `g` están disponibles para el hilo; así mismo, cuado el contexto de solicitud opera, la solicitud y la sesión también están disponibles. Si se accede a cualquiera de estas variables sin tener alguna aplicación activa o contexto de solicitud, se fenera un error. Por ejemplo, veamos el error que se obtendrá sino se ha definido el contexto de aplicación si corremos, junto a l archivo de [este link](https://github.com/ssanchezgoe/flask_vscode_tutorial/blob/master/hello.py), las siguientes líneas de código :"
      ]
    },
    {
      "cell_type": "code",
      "metadata": {
        "id": "4Y5LKHXxZdhI",
        "colab_type": "code",
        "colab": {
          "base_uri": "https://localhost:8080/",
          "height": 621
        },
        "outputId": "d5735a6b-2c52-48eb-9d49-237f615545aa"
      },
      "source": [
        "!wget https://raw.githubusercontent.com/ssanchezgoe/flask_vscode_tutorial/master/hello.py\n",
        "\n",
        "from hello import app\n",
        "from flask import current_app\n",
        "\n",
        "current_app.name"
      ],
      "execution_count": 5,
      "outputs": [
        {
          "output_type": "stream",
          "text": [
            "--2020-08-17 18:51:35--  https://raw.githubusercontent.com/ssanchezgoe/flask_vscode_tutorial/master/hello.py\n",
            "Resolving raw.githubusercontent.com (raw.githubusercontent.com)... 151.101.0.133, 151.101.64.133, 151.101.128.133, ...\n",
            "Connecting to raw.githubusercontent.com (raw.githubusercontent.com)|151.101.0.133|:443... connected.\n",
            "HTTP request sent, awaiting response... 200 OK\n",
            "Length: 247 [text/plain]\n",
            "Saving to: ‘hello.py.1’\n",
            "\n",
            "\rhello.py.1            0%[                    ]       0  --.-KB/s               \rhello.py.1          100%[===================>]     247  --.-KB/s    in 0s      \n",
            "\n",
            "2020-08-17 18:51:35 (13.1 MB/s) - ‘hello.py.1’ saved [247/247]\n",
            "\n"
          ],
          "name": "stdout"
        },
        {
          "output_type": "error",
          "ename": "RuntimeError",
          "evalue": "ignored",
          "traceback": [
            "\u001b[0;31m---------------------------------------------------------------------------\u001b[0m",
            "\u001b[0;31mRuntimeError\u001b[0m                              Traceback (most recent call last)",
            "\u001b[0;32m<ipython-input-5-717cc3913898>\u001b[0m in \u001b[0;36m<module>\u001b[0;34m()\u001b[0m\n\u001b[1;32m      4\u001b[0m \u001b[0;32mfrom\u001b[0m \u001b[0mflask\u001b[0m \u001b[0;32mimport\u001b[0m \u001b[0mcurrent_app\u001b[0m\u001b[0;34m\u001b[0m\u001b[0;34m\u001b[0m\u001b[0m\n\u001b[1;32m      5\u001b[0m \u001b[0;34m\u001b[0m\u001b[0m\n\u001b[0;32m----> 6\u001b[0;31m \u001b[0mcurrent_app\u001b[0m\u001b[0;34m.\u001b[0m\u001b[0mname\u001b[0m\u001b[0;34m\u001b[0m\u001b[0;34m\u001b[0m\u001b[0m\n\u001b[0m",
            "\u001b[0;32m/usr/local/lib/python3.6/dist-packages/werkzeug/local.py\u001b[0m in \u001b[0;36m__getattr__\u001b[0;34m(self, name)\u001b[0m\n\u001b[1;32m    345\u001b[0m         \u001b[0;32mif\u001b[0m \u001b[0mname\u001b[0m \u001b[0;34m==\u001b[0m \u001b[0;34m\"__members__\"\u001b[0m\u001b[0;34m:\u001b[0m\u001b[0;34m\u001b[0m\u001b[0;34m\u001b[0m\u001b[0m\n\u001b[1;32m    346\u001b[0m             \u001b[0;32mreturn\u001b[0m \u001b[0mdir\u001b[0m\u001b[0;34m(\u001b[0m\u001b[0mself\u001b[0m\u001b[0;34m.\u001b[0m\u001b[0m_get_current_object\u001b[0m\u001b[0;34m(\u001b[0m\u001b[0;34m)\u001b[0m\u001b[0;34m)\u001b[0m\u001b[0;34m\u001b[0m\u001b[0;34m\u001b[0m\u001b[0m\n\u001b[0;32m--> 347\u001b[0;31m         \u001b[0;32mreturn\u001b[0m \u001b[0mgetattr\u001b[0m\u001b[0;34m(\u001b[0m\u001b[0mself\u001b[0m\u001b[0;34m.\u001b[0m\u001b[0m_get_current_object\u001b[0m\u001b[0;34m(\u001b[0m\u001b[0;34m)\u001b[0m\u001b[0;34m,\u001b[0m \u001b[0mname\u001b[0m\u001b[0;34m)\u001b[0m\u001b[0;34m\u001b[0m\u001b[0;34m\u001b[0m\u001b[0m\n\u001b[0m\u001b[1;32m    348\u001b[0m \u001b[0;34m\u001b[0m\u001b[0m\n\u001b[1;32m    349\u001b[0m     \u001b[0;32mdef\u001b[0m \u001b[0m__setitem__\u001b[0m\u001b[0;34m(\u001b[0m\u001b[0mself\u001b[0m\u001b[0;34m,\u001b[0m \u001b[0mkey\u001b[0m\u001b[0;34m,\u001b[0m \u001b[0mvalue\u001b[0m\u001b[0;34m)\u001b[0m\u001b[0;34m:\u001b[0m\u001b[0;34m\u001b[0m\u001b[0;34m\u001b[0m\u001b[0m\n",
            "\u001b[0;32m/usr/local/lib/python3.6/dist-packages/werkzeug/local.py\u001b[0m in \u001b[0;36m_get_current_object\u001b[0;34m(self)\u001b[0m\n\u001b[1;32m    304\u001b[0m         \"\"\"\n\u001b[1;32m    305\u001b[0m         \u001b[0;32mif\u001b[0m \u001b[0;32mnot\u001b[0m \u001b[0mhasattr\u001b[0m\u001b[0;34m(\u001b[0m\u001b[0mself\u001b[0m\u001b[0;34m.\u001b[0m\u001b[0m__local\u001b[0m\u001b[0;34m,\u001b[0m \u001b[0;34m\"__release_local__\"\u001b[0m\u001b[0;34m)\u001b[0m\u001b[0;34m:\u001b[0m\u001b[0;34m\u001b[0m\u001b[0;34m\u001b[0m\u001b[0m\n\u001b[0;32m--> 306\u001b[0;31m             \u001b[0;32mreturn\u001b[0m \u001b[0mself\u001b[0m\u001b[0;34m.\u001b[0m\u001b[0m__local\u001b[0m\u001b[0;34m(\u001b[0m\u001b[0;34m)\u001b[0m\u001b[0;34m\u001b[0m\u001b[0;34m\u001b[0m\u001b[0m\n\u001b[0m\u001b[1;32m    307\u001b[0m         \u001b[0;32mtry\u001b[0m\u001b[0;34m:\u001b[0m\u001b[0;34m\u001b[0m\u001b[0;34m\u001b[0m\u001b[0m\n\u001b[1;32m    308\u001b[0m             \u001b[0;32mreturn\u001b[0m \u001b[0mgetattr\u001b[0m\u001b[0;34m(\u001b[0m\u001b[0mself\u001b[0m\u001b[0;34m.\u001b[0m\u001b[0m__local\u001b[0m\u001b[0;34m,\u001b[0m \u001b[0mself\u001b[0m\u001b[0;34m.\u001b[0m\u001b[0m__name__\u001b[0m\u001b[0;34m)\u001b[0m\u001b[0;34m\u001b[0m\u001b[0;34m\u001b[0m\u001b[0m\n",
            "\u001b[0;32m/usr/local/lib/python3.6/dist-packages/flask/globals.py\u001b[0m in \u001b[0;36m_find_app\u001b[0;34m()\u001b[0m\n\u001b[1;32m     50\u001b[0m     \u001b[0mtop\u001b[0m \u001b[0;34m=\u001b[0m \u001b[0m_app_ctx_stack\u001b[0m\u001b[0;34m.\u001b[0m\u001b[0mtop\u001b[0m\u001b[0;34m\u001b[0m\u001b[0;34m\u001b[0m\u001b[0m\n\u001b[1;32m     51\u001b[0m     \u001b[0;32mif\u001b[0m \u001b[0mtop\u001b[0m \u001b[0;32mis\u001b[0m \u001b[0;32mNone\u001b[0m\u001b[0;34m:\u001b[0m\u001b[0;34m\u001b[0m\u001b[0;34m\u001b[0m\u001b[0m\n\u001b[0;32m---> 52\u001b[0;31m         \u001b[0;32mraise\u001b[0m \u001b[0mRuntimeError\u001b[0m\u001b[0;34m(\u001b[0m\u001b[0m_app_ctx_err_msg\u001b[0m\u001b[0;34m)\u001b[0m\u001b[0;34m\u001b[0m\u001b[0;34m\u001b[0m\u001b[0m\n\u001b[0m\u001b[1;32m     53\u001b[0m     \u001b[0;32mreturn\u001b[0m \u001b[0mtop\u001b[0m\u001b[0;34m.\u001b[0m\u001b[0mapp\u001b[0m\u001b[0;34m\u001b[0m\u001b[0;34m\u001b[0m\u001b[0m\n\u001b[1;32m     54\u001b[0m \u001b[0;34m\u001b[0m\u001b[0m\n",
            "\u001b[0;31mRuntimeError\u001b[0m: Working outside of application context.\n\nThis typically means that you attempted to use functionality that needed\nto interface with the current application object in some way. To solve\nthis, set up an application context with app.app_context().  See the\ndocumentation for more information."
          ]
        }
      ]
    },
    {
      "cell_type": "markdown",
      "metadata": {
        "id": "vx1cRhs9fQMr",
        "colab_type": "text"
      },
      "source": [
        "Para evitar este error, debemos antes activar el contexto de la aplicación mediante la siguiente forma"
      ]
    },
    {
      "cell_type": "code",
      "metadata": {
        "id": "oSazwMC4eR1r",
        "colab_type": "code",
        "colab": {
          "base_uri": "https://localhost:8080/",
          "height": 35
        },
        "outputId": "d02066b8-e46a-4c4f-ce3f-f02ae73feadf"
      },
      "source": [
        "from hello import app\n",
        "from flask import current_app\n",
        "\n",
        "app_ctx = app.app_context()\n",
        "app_ctx.push()\n",
        "print('Ahora si que obtenemos el nombre de la app en ejecución: ', current_app.name)\n",
        "app_ctx.pop()"
      ],
      "execution_count": 7,
      "outputs": [
        {
          "output_type": "stream",
          "text": [
            "Ahora si que obtenemos el nombre de la app en ejecución:  hello\n"
          ],
          "name": "stdout"
        }
      ]
    },
    {
      "cell_type": "markdown",
      "metadata": {
        "id": "UmA_qDkJfyEw",
        "colab_type": "text"
      },
      "source": [
        "##**Solicitud de envío**\n",
        "\n",
        "Cuando una aplicación recibe una solicitud de un cliente, necesita saber que función de vista llama para tramitarla. Para realizar esta tarea, `Flask` busca la URL proporcionada en la solucitud dentro del mapa URL de la aplicación. Este mapa es creado usando los decoradores de `app.route` o la versión equivalente (que no es un decorador) `app.add_url_rule()`.\n",
        "\n",
        "Para ver el mapa URL en una aplicación `Flask`, podemos hacerlo al inspecionar el mapa creado para la aplicación `hello.py` que descargamos anterioremente. "
      ]
    },
    {
      "cell_type": "code",
      "metadata": {
        "id": "SDrGGRdhkVdA",
        "colab_type": "code",
        "colab": {
          "base_uri": "https://localhost:8080/",
          "height": 69
        },
        "outputId": "39c55006-751f-427c-f257-b940f65c8489"
      },
      "source": [
        "from hello import app\n",
        "app.url_map"
      ],
      "execution_count": 6,
      "outputs": [
        {
          "output_type": "execute_result",
          "data": {
            "text/plain": [
              "Map([<Rule '/' (GET, OPTIONS, HEAD) -> index>,\n",
              " <Rule '/static/<filename>' (GET, OPTIONS, HEAD) -> static>,\n",
              " <Rule '/user/<name>' (GET, OPTIONS, HEAD) -> user>])"
            ]
          },
          "metadata": {
            "tags": []
          },
          "execution_count": 6
        }
      ]
    },
    {
      "cell_type": "markdown",
      "metadata": {
        "id": "CSxsHF5bkbXQ",
        "colab_type": "text"
      },
      "source": [
        "Del anterior mapa se puntualiza lo siguiente:\n",
        "\n",
        "\n",
        "- Las siguientes rutas son definidas por los decoradores de `app.route`:\n",
        "\n",
        "  - / \n",
        "  - /user/<name> \n",
        "\n",
        "- `Flask` adiciona la ruta `/static/<filename>`para darle acceso a archivos estáticos (de los cuales se hablará más adelante). \n",
        "\n",
        "- Los elementos:\n",
        "\n",
        "  - HEAD\n",
        "  - OPTIONS\n",
        "  - GET\n",
        "\n",
        "  repreentan los **métodos** de solicitud que son empleados por la ruta. `Flask` adjunta a cada ruta  métodos de tal forma que diferentes métodos de solicitud enviados al mismo URL puedan ser empleados por diferentes funciones de vista. Los métodos `HEAD` y `OPTIONS` son empleados automáticamente por `Flask`, de tal forma que en la práctica se puede decir en esta aplicación las tres rutas en el mapa URL se adjuntan al método `GET`. Más adelande se estudiarán diferentes métodos de solicitud para rutas."
      ]
    },
    {
      "cell_type": "markdown",
      "metadata": {
        "id": "iowl3Z6XHEDj",
        "colab_type": "text"
      },
      "source": [
        "##**Request Hooks**\n",
        "\n",
        "En ocaciones resulta útil ejecutar un código antes o después de que cada solicitud sea procesada. Por ejemplo, en el inicio de una solicitud, puede ser necesario crear una conexión con una base de datos, o autenticar al usuario que hace la solicitud. En lugar de duplicar el código que hace esta tarea en cada función de vista, `Flask` proporciona la opción de registrar funciones comunes las cuales se llaman antes o después de que se envíe una solicitud a una función de vista. \n",
        "\n",
        "Los request hooks son implementados como decoradores y existen cuatro decoradores soportados por `Flask:`\n",
        "\n",
        "- `before_first_request`: Registro de una función para ejecutarse antes de que la primera solicitud sea tratada.\n",
        "-  `before_request`: Registo de una función para ejecutarse antes de cada solicitud.\n",
        "- `after_request`: Registro de una función para ejecutarse después de caada solicitud, siempre que no se hayan producido excepciones no controladas.\n",
        "- `teardown_request`: Registro de una función para ejecutarse despues de cada solicitd, inclusi si se han producido excepciones no controladas. \n",
        "\n",
        "Un patrón común para compartir datos entre las funciones de enlace de solicitud y las funciones de visualización es usar el contexto global `g`. \n",
        "\n",
        "---\n",
        "**Ejemplo:** un controlador `before_request` puede cargar el usuario que inició sesión desde la base de datos y almacenarlo en `g.user`. Posteriormente, cuando se invoca la función de visualización, puede acceder al usuario desde allí.\n",
        "\n",
        "---\n",
        "\n",
        "\n",
        "A lo largo del curso se mostrarán ejemplos de enlaces de solicitud."
      ]
    },
    {
      "cell_type": "markdown",
      "metadata": {
        "id": "_ep5DmI6YjFv",
        "colab_type": "text"
      },
      "source": [
        "##**Respuestas**\n",
        "\n",
        "Cuando `Flask` invoca una función de vista, espera que su valor de retorno sea la respuesta a la solicitud. En la mayoria de casos corresponde a una cadena que es enviada al cliente como una página HTML. No obstante, el protocolo HTTP precisa de más que una cadena como respuesta a una solicitud. Una parte primordial de la respuesta HTTP es el **estatus del código**, el cual `Flask` fija por defecto en 200, el cual indica que la solicitud fue entregada satisfactoriamente.\n",
        "\n",
        "\n",
        "\n",
        "Cuando una función de vista necesita responder con un código de estado diferente, puede agregar el código numérico como un segundo valor de retorno después del texto de respuesta. Por ejemplo, la siguiente función de vista devuelve un código de estado 400, el código de un error de solicitud incorrecta:"
      ]
    },
    {
      "cell_type": "markdown",
      "metadata": {
        "id": "URHoNxVKd9ZQ",
        "colab_type": "text"
      },
      "source": [
        "#**Prácticas**:\n",
        "\n",
        "A continuación se desarrollará unas prácticas constituidas por problemas relacionados con la temática vista en este notebook. \n",
        "\n",
        "En el presente [link](https://flask.palletsprojects.com/en/1.1.x/) se brinda un material de apoyo que usaremos para repazar los conceptos vistos."
      ]
    },
    {
      "cell_type": "markdown",
      "metadata": {
        "id": "9B1wXgYbyerA",
        "colab_type": "text"
      },
      "source": [
        "## **Pregunta 1:** \n",
        "\n",
        "El protocolo usado por `Flask` para pasar todas las solicitudes de los clientes a un objeto que los manipule es:"
      ]
    },
    {
      "cell_type": "code",
      "metadata": {
        "id": "6eKtENhpjP0s",
        "colab_type": "code",
        "colab": {
          "base_uri": "https://localhost:8080/",
          "height": 121
        },
        "cellView": "form",
        "outputId": "e1ed1e32-9e7e-4065-8712-33888f782eb4"
      },
      "source": [
        "#@title\n",
        "Protocolo = \"WSGI\" #@param [\"WSGI\", \"HTTP\", \"WWW\",\"N/A\"]\n",
        "\n",
        "if Protocolo == \"WSGI\":\n",
        "  print('''La respuesta es correcta:\n",
        "El servidor de puerta de enlace de la interfaz web (WSGI) \n",
        "es una simple convención de llamada para los servidores web \n",
        "para reenviar solicitudes a las aplicaciones web escritas en \n",
        "el lenguaje de programación Python .\n",
        "''')\n",
        "else:\n",
        "  print('''Respuesta incorrecta:\n",
        "Debes repazar el primer programa implementado en este notebook.\n",
        "  ''')"
      ],
      "execution_count": 4,
      "outputs": [
        {
          "output_type": "stream",
          "text": [
            "La respuesta es correcta:\n",
            "El servidor de puerta de enlace de la interfaz web (WSGI) \n",
            "es una simple convención de llamada para los servidores web \n",
            "para reenviar solicitudes a las aplicaciones web escritas en \n",
            "el lenguaje de programación Python .\n",
            "\n"
          ],
          "name": "stdout"
        }
      ]
    },
    {
      "cell_type": "markdown",
      "metadata": {
        "id": "HJdhw5EZydkz",
        "colab_type": "text"
      },
      "source": [
        "##**Preguntas 2 a 5:** \n",
        "\n",
        "Para las preguntas 2 a 5 analice las siguientes líneas de código\n",
        "\n",
        "\n",
        "\n",
        "```\n",
        "from flask import Flask\n",
        "app = Flask(arg)\n",
        "\n",
        "@app.route('/')\n",
        "def hola_mundo():\n",
        "    return 'Hola, Mundo!'\n",
        "```"
      ]
    },
    {
      "cell_type": "code",
      "metadata": {
        "id": "wOqX1PjiomjB",
        "colab_type": "code",
        "colab": {},
        "cellView": "form"
      },
      "source": [
        "#@title **Pregunta 2. El argumento denotado por `arg` para crear una instancia de la clase `Flask` debe ser:**\n",
        "arg = \"None\" #@param [\"None\", \"__name__\", \"__main__\",\"run\"]\n",
        "\n",
        "if arg == \"__name__\":\n",
        "  print('''Respuesta correcta!\n",
        "\n",
        "El primer argumento es el nombre del módulo o \n",
        "paquete de la aplicación. Si está usando un solo módulo,\n",
        "debe usar el nombre porque, dependiendo de si se inició \n",
        "como aplicación o se importómcomo módulo, el nombre será \n",
        "diferente (__main__ frente al nombre de importación real). \n",
        "Esto es necesario para que Flask sepa dónde buscar \n",
        "plantillas, archivos estáticos, etc.\n",
        "''')\n",
        "else:\n",
        "  print('''Respuesta incorrecta:\n",
        "Debes repazar el primer programa implementado en este notebook.\n",
        "  ''')\n",
        "\n"
      ],
      "execution_count": null,
      "outputs": []
    },
    {
      "cell_type": "code",
      "metadata": {
        "colab_type": "code",
        "cellView": "form",
        "id": "Qro_D9ssBb_O",
        "colab": {}
      },
      "source": [
        "#@title **Pregunta 3 (verdador o falso). La aplicación Flask definida, se divide, principalmente, en funciones de ruta y vista**\n",
        "arg = \"Verdadero\" #@param [\"Falso\", \"Verdadero\"]\n",
        "\n",
        "if arg == \"Verdadero\":\n",
        "  print('''Respuesta correcta!\n",
        "\n",
        "Las partes centrales en una aplicación web estan constituidas\n",
        "por las rutas creadas a partir de las solicitudes realizadas \n",
        "por un usuario (como un navegador web) a funciones de vista \n",
        "(escritas en Python, en nuestro caso), y las funciones de vista \n",
        "en sí, encargadas de dar respuesta en forma de una visualización \n",
        "en el navegador, por ejemplo. \n",
        "''')\n",
        "else:\n",
        "  print('''Respuesta incorrecta:\n",
        "Debes repazar el primer programa implementado en este notebook.\n",
        "  ''')\n",
        "\n"
      ],
      "execution_count": null,
      "outputs": []
    },
    {
      "cell_type": "code",
      "metadata": {
        "colab_type": "code",
        "cellView": "form",
        "id": "udyAux8OBcx5",
        "colab": {}
      },
      "source": [
        "#@title **Pregunta 4. la sentencia `@app.route('/')` se encarga de:**\n",
        "arg = \"Asociar un URL a una funcion de vista de Python\" #@param [\"Nada\", \"Iniciar la visualizacion de la aplicacion\", \"Asociar un URL a una funcion de vista de Python\",\"Definir un decorador vacio\"]\n",
        "\n",
        "if arg == \"Asociar un URL a una funcion de vista de Python\":\n",
        "  print('''Respuesta correcta!\n",
        "\n",
        "@app.route('/') define corresponde a un decorador en Python encar-\n",
        "gado de asociar la un URL a la función de vista hola_mundo(). En \n",
        "este código se registra la función index() como el controlador del \n",
        "URL raiz de la aplicación.\n",
        "''')\n",
        "else:\n",
        "  print('''Respuesta incorrecta:\n",
        "Debes repazar el primer programa implementado en este notebook.\n",
        "  ''')\n",
        "\n"
      ],
      "execution_count": null,
      "outputs": []
    },
    {
      "cell_type": "code",
      "metadata": {
        "colab_type": "code",
        "cellView": "form",
        "id": "lCxfceLDBdJd",
        "colab": {}
      },
      "source": [
        "#@title **Pregunta 5. La función hola_mundo() es una función de vista encargada de:**\n",
        "hola_mundo = \"Definir una funcion de ruta\" #@param [\"Definir una funcion de ruta\", \"Generar una respuesta que corresponde a un string\", \"Inicializar la aplicacion\",\"Finalizar la ejecucion del programa\"]\n",
        "\n",
        "if hola_mundo == \"Generar una respuesta que corresponde a un string\":\n",
        "  print('''Respuesta correcta!\n",
        "\n",
        "La función hola_mundo() se encarga de generar una respuesta\n",
        "a la petición de un cliente para el URL raiz de la aplica-\n",
        "ción.\n",
        "\n",
        "Nota: Las respuestas de strings embebidas en python no son la\n",
        "herramientas óptimas para generar código HTML. Más adelante \n",
        "veremos como usar plantillas para generar respuestas.\n",
        "''')\n",
        "else:\n",
        "  print('''Respuesta incorrecta:\n",
        "Debes repazar el primer programa implementado en este notebook.\n",
        "  ''')\n",
        "\n"
      ],
      "execution_count": null,
      "outputs": []
    },
    {
      "cell_type": "markdown",
      "metadata": {
        "id": "BdLy6oXk5vDE",
        "colab_type": "text"
      },
      "source": [
        "##**Problema 6.**\n",
        "\n",
        "Para la aplicación del principio del notebook\n",
        "\n",
        "\n",
        "\n",
        "```\n",
        "from flask_ngrok import run_with_ngrok\n",
        "from flask import Flask\n",
        "\n",
        "app = Flask(__name__)\n",
        "\n",
        "run_with_ngrok(app)   #Ejecución de ngrok una vez la app está en marcha\n",
        "\n",
        "# Rutas y vistas.\n",
        "@app.route(\"/\")\n",
        "def home():\n",
        "    return \"<h1>Ejecución de Flask on Google Colab!</h1>\"\n",
        "  \n",
        "if __name__ == '__main__':\n",
        " app.run()\n",
        "```\n",
        "\n",
        "\n",
        "\n",
        "defina una ruta dinámica de la forma `'/user/<name>'` para personalizar el URL. Defina además una función de vista `user(name)`, en donde se le de la bienvenida al usuario almacenado en la variable `name`"
      ]
    },
    {
      "cell_type": "code",
      "metadata": {
        "id": "IH2rme9B1-Nx",
        "colab_type": "code",
        "colab": {},
        "cellView": "form"
      },
      "source": [
        "#@title **Solución al problema**\n",
        "from flask_ngrok import run_with_ngrok\n",
        "from flask import Flask\n",
        "app = Flask(__name__)\n",
        " \n",
        "run_with_ngrok(app)\n",
        "\n",
        "@app.route(\"/\")\n",
        "def home():\n",
        "    return \"<h1>Ejecución de Flask on Google Colab!</h1>\"\n",
        "\n",
        "@app.route('/user/<name>')\n",
        "def user(name):\n",
        "  return \"<h1>Bienvenido %s a esta clase!</h1>\" % name\n",
        "\n",
        "print('''Ayuda:\n",
        "\n",
        "Para ejecutar esta aplicación, debe copiar el URL\n",
        "suministrado por ngrok y adicionar la ruta con el usuario,\n",
        "es decir, URL/user/nombre_usuario.\n",
        "\n",
        "''')\n",
        "\n",
        "if __name__ == '__main__':\n",
        " app.run()"
      ],
      "execution_count": null,
      "outputs": []
    }
  ]
}